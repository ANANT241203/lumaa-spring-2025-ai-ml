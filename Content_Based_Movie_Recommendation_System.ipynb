{
  "nbformat": 4,
  "nbformat_minor": 0,
  "metadata": {
    "colab": {
      "provenance": []
    },
    "kernelspec": {
      "name": "python3",
      "display_name": "Python 3"
    },
    "language_info": {
      "name": "python"
    }
  },
  "cells": [
    {
      "cell_type": "code",
      "source": [
        "import kagglehub\n",
        "from kagglehub import KaggleDatasetAdapter\n",
        "import os\n",
        "import shutil\n",
        "import pandas as pd\n",
        "import numpy as np\n",
        "import re\n",
        "from sklearn.feature_extraction.text import TfidfVectorizer\n",
        "from sklearn.metrics.pairwise import cosine_similarity\n",
        "import nltk\n",
        "from nltk.stem import WordNetLemmatizer\n",
        "\n",
        "\n",
        "# Download dataset from Kaggle\n",
        "kagglehub.dataset_download('jrobischon/wikipedia-movie-plots')\n",
        "\n",
        "# Move dataset to working directory\n",
        "source_path = \"/root/.cache/kagglehub/datasets/jrobischon/wikipedia-movie-plots/versions/1/wiki_movie_plots_deduped.csv\"\n",
        "destination_path = os.path.join(os.getcwd(), \"wiki_movie_plots_deduped.csv\")\n",
        "\n",
        "if os.path.exists(source_path):\n",
        "    try:\n",
        "        shutil.move(source_path, destination_path)\n",
        "        print(f\"File moved successfully to: {destination_path}\")\n",
        "    except Exception as e:\n",
        "        print(f\"Error moving file: {e}\")\n",
        "else:\n",
        "    print(f\"Source file not found: {source_path}\")"
      ],
      "metadata": {
        "colab": {
          "base_uri": "https://localhost:8080/"
        },
        "id": "J2TMK3NnEftT",
        "outputId": "f5795c91-db27-4e3c-d3c0-1266be52755d"
      },
      "execution_count": 1,
      "outputs": [
        {
          "output_type": "stream",
          "name": "stdout",
          "text": [
            "Warning: Looks like you're using an outdated `kagglehub` version (installed: 0.3.7), please consider upgrading to the latest version (0.3.8).\n",
            "Downloading from https://www.kaggle.com/api/v1/datasets/download/jrobischon/wikipedia-movie-plots?dataset_version_number=1...\n"
          ]
        },
        {
          "output_type": "stream",
          "name": "stderr",
          "text": [
            "100%|██████████| 29.9M/29.9M [00:00<00:00, 113MB/s] "
          ]
        },
        {
          "output_type": "stream",
          "name": "stdout",
          "text": [
            "Extracting files...\n"
          ]
        },
        {
          "output_type": "stream",
          "name": "stderr",
          "text": [
            "\n"
          ]
        },
        {
          "output_type": "stream",
          "name": "stdout",
          "text": [
            "File moved successfully to: /content/wiki_movie_plots_deduped.csv\n"
          ]
        }
      ]
    },
    {
      "cell_type": "code",
      "source": [],
      "metadata": {
        "id": "lDkQLy_AIzAs"
      },
      "execution_count": 1,
      "outputs": []
    },
    {
      "cell_type": "code",
      "source": [
        "\n",
        "\n",
        "# Load the dataset\n",
        "df = pd.read_csv(\"wiki_movie_plots_deduped.csv\")\n",
        "\n",
        "# Select relevant columns\n",
        "df = df[['Title', 'Plot']]\n",
        "df.dropna(inplace=True)\n",
        "\n",
        "# Download required NLTK data\n",
        "nltk.download('wordnet')\n",
        "nltk.download('omw-1.4')\n",
        "lemmatizer = WordNetLemmatizer()\n",
        "\n",
        "# Define cleaning and lemmatization function\n",
        "def clean_and_lemmatize(text):\n",
        "    text = text.lower()  # Convert to lowercase\n",
        "    text = re.sub(r'\\d+', '', text)  # Remove numbers\n",
        "    text = re.sub(r'[^\\w\\s]', '', text)  # Remove special characters\n",
        "    tokens = text.split()\n",
        "    tokens = [lemmatizer.lemmatize(token) for token in tokens]\n",
        "    return \" \".join(tokens)\n",
        "\n",
        "# Apply text cleaning and lemmatization\n",
        "df[\"Plot\"] = df[\"Plot\"].apply(clean_and_lemmatize)\n",
        "\n",
        "print(\"Dataset Loaded. Shape:\", df.shape)\n",
        "print(df.head())\n"
      ],
      "metadata": {
        "colab": {
          "base_uri": "https://localhost:8080/"
        },
        "id": "wx81bremIzDa",
        "outputId": "85705e92-a19c-4d6d-df9d-0fe87530b06e"
      },
      "execution_count": 2,
      "outputs": [
        {
          "output_type": "stream",
          "name": "stderr",
          "text": [
            "<ipython-input-2-604a4550da1e>:6: SettingWithCopyWarning: \n",
            "A value is trying to be set on a copy of a slice from a DataFrame\n",
            "\n",
            "See the caveats in the documentation: https://pandas.pydata.org/pandas-docs/stable/user_guide/indexing.html#returning-a-view-versus-a-copy\n",
            "  df.dropna(inplace=True)\n",
            "[nltk_data] Downloading package wordnet to /root/nltk_data...\n",
            "[nltk_data] Downloading package omw-1.4 to /root/nltk_data...\n"
          ]
        },
        {
          "output_type": "stream",
          "name": "stdout",
          "text": [
            "Dataset Loaded. Shape: (34886, 2)\n",
            "                              Title  \\\n",
            "0            Kansas Saloon Smashers   \n",
            "1     Love by the Light of the Moon   \n",
            "2           The Martyred Presidents   \n",
            "3  Terrible Teddy, the Grizzly King   \n",
            "4            Jack and the Beanstalk   \n",
            "\n",
            "                                                Plot  \n",
            "0  a bartender is working at a saloon serving dri...  \n",
            "1  the moon painted with a smiling face hang over...  \n",
            "2  the film just over a minute long is composed o...  \n",
            "3  lasting just second and consisting of two shot...  \n",
            "4  the earliest known adaptation of the classic f...  \n"
          ]
        }
      ]
    },
    {
      "cell_type": "code",
      "source": [],
      "metadata": {
        "id": "SFZ6YZsrIzGY"
      },
      "execution_count": 2,
      "outputs": []
    },
    {
      "cell_type": "code",
      "source": [
        "# Convert the movie plots to a TF-IDF matrix\n",
        "vectorizer = TfidfVectorizer(stop_words=\"english\",\n",
        "                             max_df=0.85,  # Reduce dominance of overly common words\n",
        "                             min_df=3,     # Ignore words appearing in very few plots\n",
        "                             ngram_range=(1,2),  # Capture single words + bigrams\n",
        "                             sublinear_tf=True)  # Scale frequent words for better balance\n",
        "\n",
        "\n",
        "tfidf_matrix = vectorizer.fit_transform(df[\"Plot\"])\n",
        "\n",
        "print(\"TF-IDF Matrix Shape:\", tfidf_matrix.shape)\n",
        "\n",
        "\n"
      ],
      "metadata": {
        "colab": {
          "base_uri": "https://localhost:8080/"
        },
        "id": "AqI5hhZ-IzJY",
        "outputId": "a4d267da-a04c-4d08-9048-391a4617ee08"
      },
      "execution_count": 3,
      "outputs": [
        {
          "output_type": "stream",
          "name": "stdout",
          "text": [
            "TF-IDF Matrix Shape: (34886, 362984)\n"
          ]
        }
      ]
    },
    {
      "cell_type": "code",
      "source": [],
      "metadata": {
        "id": "BqxNMqFlIzMM"
      },
      "execution_count": 3,
      "outputs": []
    },
    {
      "cell_type": "code",
      "source": [
        "\n",
        "\n",
        "# Define the recommendation function\n",
        "def get_recommendations(user_query, top_n=5):\n",
        "    # Clean and lemmatize the query just like the dataset\n",
        "    user_query_cleaned = clean_and_lemmatize(user_query)\n",
        "    query_vec = vectorizer.transform([user_query_cleaned])\n",
        "\n",
        "    similarities = cosine_similarity(query_vec, tfidf_matrix).flatten()\n",
        "\n",
        "    # Normalize the similarity scores\n",
        "    normalized_similarities = similarities / similarities.max()\n",
        "\n",
        "    top_indices = normalized_similarities.argsort()[::-1][:top_n]\n",
        "    recommendations = df.iloc[top_indices].copy()\n",
        "    recommendations[\"similarity_score\"] = normalized_similarities[top_indices]\n",
        "    return recommendations\n",
        "\n"
      ],
      "metadata": {
        "id": "fNKpogYFIzOu"
      },
      "execution_count": 4,
      "outputs": []
    },
    {
      "cell_type": "code",
      "source": [],
      "metadata": {
        "id": "SuI2wVXkIzSP"
      },
      "execution_count": 4,
      "outputs": []
    },
    {
      "cell_type": "code",
      "source": [
        "# Example query\n",
        "user_input = \"I love thrilling action movies set in space, with a comedic twist.\"\n",
        "recommendations = get_recommendations(user_input, top_n=5)\n",
        "\n",
        "# Print results\n",
        "print(\"User Query:\", user_input, \"\\n\")\n",
        "print(\"Top Recommendations:\")\n",
        "for i, row in recommendations.iterrows():\n",
        "    print(f\"{row['Title']} (Score: {row['similarity_score']:.3f})\")\n",
        "    print(f\"Plot: {row['Plot'][:]}...\\n\")\n"
      ],
      "metadata": {
        "colab": {
          "base_uri": "https://localhost:8080/"
        },
        "id": "1p_YeeQ8EfwH",
        "outputId": "1e8a3419-1f53-4e54-fc87-c18dc346bf77"
      },
      "execution_count": 5,
      "outputs": [
        {
          "output_type": "stream",
          "name": "stdout",
          "text": [
            "User Query: I love thrilling action movies set in space, with a comedic twist. \n",
            "\n",
            "Top Recommendations:\n",
            "Native (Score: 1.000)\n",
            "Plot: pilot in space are drawn towards a distant music...\n",
            "\n",
            "Nine Lives Are Not Enough (Score: 0.955)\n",
            "Plot: a reporter try to solve a series of boardinghouse murder the dramatic main plot murder action is intermixed with farce and slapstick comedic element...\n",
            "\n",
            "Power (Score: 0.924)\n",
            "Plot: the plot is simple a man who wa the lookalike of an honest police officer in his previous life is eager to join the police he get the opportunityand what follows next is a thrilling ride of comedy with kharaj and action along with a flashback to his previous life which wa thought to be another person altogether...\n",
            "\n",
            "Rasta (Score: 0.828)\n",
            "Plot: a fastpaced thriller with mithun providing the twist...\n",
            "\n",
            "Spy (Score: 0.827)\n",
            "Plot: the movie is set in the year month before the german invasion of russia the two protagonist nkvd officer dorin and oktyabrsky are hunting a german spy in moscow they believe their success might reveal hitler plan and the exact date of invasion it is implied that dorin is a distant relative of erast fandorin the most popular character of akunins book...\n",
            "\n"
          ]
        }
      ]
    },
    {
      "cell_type": "code",
      "source": [],
      "metadata": {
        "id": "PCYt3xP_Ef1r"
      },
      "execution_count": 5,
      "outputs": []
    },
    {
      "cell_type": "code",
      "source": [],
      "metadata": {
        "id": "xAcj8QWfLxww"
      },
      "execution_count": 5,
      "outputs": []
    },
    {
      "cell_type": "code",
      "source": [],
      "metadata": {
        "id": "TA3CPmS8LxzV"
      },
      "execution_count": 5,
      "outputs": []
    },
    {
      "cell_type": "code",
      "source": [],
      "metadata": {
        "id": "6feWZ7-LLx2z"
      },
      "execution_count": 5,
      "outputs": []
    },
    {
      "cell_type": "code",
      "source": [],
      "metadata": {
        "id": "bjvt2MY9Ef4p"
      },
      "execution_count": 5,
      "outputs": []
    },
    {
      "cell_type": "code",
      "source": [],
      "metadata": {
        "id": "3F2ghj9WEf-I"
      },
      "execution_count": 5,
      "outputs": []
    },
    {
      "cell_type": "code",
      "source": [],
      "metadata": {
        "id": "9GhoEMaEEgBr"
      },
      "execution_count": 5,
      "outputs": []
    }
  ]
}